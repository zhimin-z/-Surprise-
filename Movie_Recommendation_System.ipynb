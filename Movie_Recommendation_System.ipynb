{
 "cells": [
  {
   "cell_type": "markdown",
   "metadata": {},
   "source": [
    "### 协同过滤推荐"
   ]
  },
  {
   "cell_type": "code",
   "execution_count": 28,
   "metadata": {
    "collapsed": true
   },
   "outputs": [],
   "source": [
    "#构造一份打分数据集，可以去movielens下载真实的数据做实验\n",
    "users = {\"小明\": {\"中国合伙人\": 5.0, \"太平轮\": 3.0, \"荒野猎人\": 4.5, \"老炮儿\": 5.0, \"我的少女时代\": 3.0, \"肖洛特烦恼\": 4.5, \"火星救援\": 5.0},\n",
    "         \"小红\":{\"小时代4\": 4.0, \"荒野猎人\": 3.0, \"我的少女时代\": 5.0, \"肖洛特烦恼\": 5.0, \"火星救援\": 3.0, \"后会无期\": 3.0},\n",
    "         \"小阳\": {\"小时代4\": 2.0, \"中国合伙人\": 5.0, \"我的少女时代\": 3.0, \"老炮儿\": 5.0, \"肖洛特烦恼\": 4.5, \"速度与激情7\": 5.0},\n",
    "         \"小四\": {\"小时代4\": 5.0, \"中国合伙人\": 3.0, \"我的少女时代\": 4.0, \"匆匆那年\": 4.0, \"速度与激情7\": 3.5, \"火星救援\": 3.5, \"后会无期\": 4.5},\n",
    "         \"六爷\": {\"小时代4\": 2.0, \"中国合伙人\": 4.0, \"荒野猎人\": 4.5, \"老炮儿\": 5.0, \"我的少女时代\": 2.0, \"Phoenix\": 4.0, \"The Strokes\": 4.0},\n",
    "         \"小李\":  {\"荒野猎人\": 5.0, \"盗梦空间\": 5.0, \"我的少女时代\": 3.0, \"速度与激情7\": 5.0, \"蚁人\": 4.5, \"老炮儿\": 4.0, \"后会无期\": 3.5, \"匆匆那年\": 3.5},\n",
    "         \"隔壁老王\": {\"荒野猎人\": 5.0, \"中国合伙人\": 4.0, \"我的少女时代\": 1.0, \"Phoenix\": 5.0, \"甄嬛传\": 4.0, \"The Strokes\": 5.0, \"蚁人\": 4.0},\n",
    "         \"邻村小芳\": {\"小时代4\": 4.0, \"我的少女时代\": 4.5, \"匆匆那年\": 4.5, \"甄嬛传\": 2.5, \"Phoenix\": 3.0, \"中国合伙人\": 3.0},\n",
    "         \"李雷\":{\"匆匆那年\": 3.0,\"中国合伙人\": 4.0, \"火星救援\": 5.0, \"小时代4\": 2.0, \"肖洛特烦恼\": 4.5, \"The Strokes\": 4.0},\n",
    "         \"韩梅梅\":{\"我的少女时代\": 5.0,\"荒野猎人\": 3.0, \"盗梦空间\": 3.0, \"小时代4\": 5.0, \"匆匆那年\": 4.5, \"甄嬛传\": 4.5}\n",
    "        }"
   ]
  },
  {
   "cell_type": "markdown",
   "metadata": {},
   "source": [
    "### 定义距离计算函数\n",
    "这是一个纯手写版本的距离计算函数集，但是大家可以在scipy当中找到更便捷的库内置计算函数"
   ]
  },
  {
   "cell_type": "code",
   "execution_count": 14,
   "metadata": {},
   "outputs": [],
   "source": [
    "from math import sqrt\n",
    "\n",
    "def euclidean_dis(rating1, rating2):\n",
    "    \"\"\"计算2个打分序列间的欧式距离. 输入的rating1和rating2都是打分dict\n",
    "       格式为{'小时代4': 1.0, '疯狂动物城': 5.0}\"\"\"\n",
    "    distance = 0\n",
    "    commonRatings = False \n",
    "    for key in rating1:\n",
    "        if key in rating2:\n",
    "            distance += (rating1[key] - rating2[key])^2\n",
    "            commonRatings = True\n",
    "    #两个打分序列之间有公共打分电影\n",
    "    if commonRatings:\n",
    "        return distance\n",
    "    #无公共打分电影\n",
    "    else:\n",
    "        return -1\n",
    "\n",
    "\n",
    "def manhattan_dis(rating1, rating2):\n",
    "    \"\"\"计算2个打分序列间的曼哈顿距离. 输入的rating1和rating2都是打分dict\n",
    "       格式为{'小时代4': 1.0, '疯狂动物城': 5.0}\"\"\"\n",
    "    distance = 0\n",
    "    commonRatings = False \n",
    "    for key in rating1:\n",
    "        if key in rating2:\n",
    "            distance += abs(rating1[key] - rating2[key])\n",
    "            commonRatings = True\n",
    "    #两个打分序列之间有公共打分电影\n",
    "    if commonRatings:\n",
    "        return distance\n",
    "    #无公共打分电影\n",
    "    else:\n",
    "        return -1\n",
    "\n",
    "def cos_dis(rating1, rating2):\n",
    "    \"\"\"计算2个打分序列间的cos距离. 输入的rating1和rating2都是打分dict\n",
    "       格式为{'小时代4': 1.0, '疯狂动物城': 5.0}\"\"\"\n",
    "    distance = 0\n",
    "    dot_product_1 = 0\n",
    "    dot_product_2 = 0\n",
    "    commonRatings = False\n",
    "    \n",
    "    for score in rating1.values(): \n",
    "        dot_product_1 += score^2\n",
    "    for score in rating2.values():\n",
    "        dot_product_2 += score^2\n",
    "        \n",
    "    for key in rating1:\n",
    "        if key in rating2:\n",
    "            distance += rating1[key] * rating2[key]\n",
    "            commonRatings = True\n",
    "    #两个打分序列之间有公共打分电影\n",
    "    if commonRatings:\n",
    "        return 1-distance/sqrt(dot_product_1*dot_product_2)\n",
    "    #无公共打分电影\n",
    "    else:\n",
    "        return -1\n",
    "\n",
    "def pearson_dis(rating1, rating2):\n",
    "    \"\"\"计算2个打分序列间的pearson距离. 输入的rating1和rating2都是打分dict\n",
    "       格式为{'小时代4': 1.0, '疯狂动物城': 5.0}\"\"\"\n",
    "    sum_xy = 0\n",
    "    sum_x = 0\n",
    "    sum_y = 0\n",
    "    sum_x2 = 0\n",
    "    sum_y2 = 0\n",
    "    n = 0\n",
    "    for key in rating1:\n",
    "        if key in rating2:\n",
    "            n += 1\n",
    "            x = rating1[key]\n",
    "            y = rating2[key]\n",
    "            sum_xy += x * y\n",
    "            sum_x += x\n",
    "            sum_y += y\n",
    "            sum_x2 += pow(x, 2)\n",
    "            sum_y2 += pow(y, 2)\n",
    "    # now compute denominator\n",
    "    denominator = sqrt((sum_x2 * n - pow(sum_x, 2)) * (sum_y2 * n - pow(sum_y, 2)))\n",
    "    if denominator:\n",
    "         return (sum_xy * n - (sum_x * sum_y)) / denominator\n",
    "    else:\n",
    "         return 0                       "
   ]
  },
  {
   "cell_type": "code",
   "execution_count": 42,
   "metadata": {
    "collapsed": true
   },
   "outputs": [],
   "source": [
    "from collections import OrderedDict\n",
    "from operator import itemgetter\n",
    "\n",
    "def computeNearestNeighbor(username, users):\n",
    "    \"\"\"在给定username的情况下，计算其他用户和它的距离并排序\"\"\"\n",
    "    distances = {}\n",
    "    for user in users:\n",
    "        if user != username:\n",
    "            distances[user] = pearson_dis(users[user], users[username])\n",
    "    # 根据相似度排序，相似度越高，排得越靠前\n",
    "    #distances = OrderedDict(sorted(distances.items(), key = lambda x:x[1], reverse=True))\n",
    "    return distances\n",
    "\n",
    "#推荐 nearest neighbor movies\n",
    "def recommendOne(username, users):\n",
    "    \"\"\"对指定的user推荐电影\"\"\"\n",
    "    # 找到最近邻\n",
    "    nearestNeighbors = computeNearestNeighbor(username, users)\n",
    "    nearestNeighbor = max(nearestNeighbors.items(), key=itemgetter(1))[0]\n",
    "    \n",
    "    recommendations = []\n",
    "    userRatings = users[username]\n",
    "    neighborRatings = users[nearestNeighbor]\n",
    "    # 找到最近邻看过，但是我们没看过的电影，计算推荐\n",
    "    for title in neighborRatings:\n",
    "        if not title in userRatings:\n",
    "            recommendations.append((neighborRatings[title], title))\n",
    "            \n",
    "    recommendations.sort(reverse = True)\n",
    "    for result in recommendations:\n",
    "        print(result[1], result[0])\n",
    "        \n",
    "#推荐 user-based Top K movies\n",
    "def recommendTopK(username, users, k):\n",
    "    \"\"\"对指定的user推荐电影\"\"\"\n",
    "    nearestNeighbors = computeNearestNeighbor(username, users)\n",
    "    \n",
    "    weights = {}\n",
    "    weightedRatings = {}\n",
    "    userRatings = users[username]\n",
    "    for neighbor, weight in nearestNeighbors.items():\n",
    "        if weight > 0:\n",
    "            neighborRatings = users[neighbor]\n",
    "            for title, rating in neighborRatings.items():\n",
    "                if title not in userRatings:\n",
    "                    if title in weightedRatings:\n",
    "                        weights[title] += weight\n",
    "                        weightedRatings[title] += weight*rating\n",
    "                    else:\n",
    "                        weights[title] = weight\n",
    "                        weightedRatings[title] = weight*rating\n",
    "    \n",
    "    for w in weightedRatings.keys():\n",
    "        if w in weights:\n",
    "            weightedRatings[w] = round(weightedRatings[w]/weights[w],1)\n",
    "            \n",
    "    recommendations = sorted(weightedRatings.items(), key=itemgetter(1), reverse=True)[:k]\n",
    "    for result in recommendations:\n",
    "        print(result[0],result[1])"
   ]
  },
  {
   "cell_type": "code",
   "execution_count": 43,
   "metadata": {
    "scrolled": true
   },
   "outputs": [
    {
     "name": "stdout",
     "output_type": "stream",
     "text": [
      "The Strokes 5.0\n",
      "Phoenix 5.0\n",
      "甄嬛传 4.0\n",
      "中国合伙人 4.0\n",
      "------------------\n",
      "火星救援 5.0\n",
      "Phoenix 4.6\n",
      "The Strokes 4.6\n",
      "肖洛特烦恼 4.5\n",
      "中国合伙人 4.5\n"
     ]
    }
   ],
   "source": [
    "recommendOne(\"小李\", users)\n",
    "print('------------------')\n",
    "recommendTopK(\"小李\", users, 5)"
   ]
  },
  {
   "cell_type": "code",
   "execution_count": null,
   "metadata": {
    "collapsed": true
   },
   "outputs": [],
   "source": []
  },
  {
   "cell_type": "code",
   "execution_count": 29,
   "metadata": {},
   "outputs": [
    {
     "name": "stdout",
     "output_type": "stream",
     "text": [
      "{'肖洛特烦恼': {'李雷': 4.5, '小红': 5.0, '小阳': 4.5, '小明': 4.5}, '中国合伙人': {'邻村小芳': 3.0, '小明': 5.0, '六爷': 4.0, '李雷': 4.0, '小阳': 5.0, '小四': 3.0, '隔壁老王': 4.0}, '甄嬛传': {'邻村小芳': 2.5, '隔壁老王': 4.0, '韩梅梅': 4.5}, '荒野猎人': {'小明': 4.5, '六爷': 4.5, '韩梅梅': 3.0, '隔壁老王': 5.0, '小红': 3.0, '小李': 5.0}, '速度与激情7': {'小阳': 5.0, '小四': 3.5, '小李': 5.0}, '太平轮': {'小明': 3.0}, 'The Strokes': {'李雷': 4.0, '六爷': 4.0, '隔壁老王': 5.0}, '小时代4': {'邻村小芳': 4.0, '六爷': 2.0, '韩梅梅': 5.0, '李雷': 2.0, '小红': 4.0, '小阳': 2.0, '小四': 5.0}, '老炮儿': {'六爷': 5.0, '小阳': 5.0, '小李': 4.0, '小明': 5.0}, '我的少女时代': {'邻村小芳': 4.5, '小明': 3.0, '六爷': 2.0, '韩梅梅': 5.0, '隔壁老王': 1.0, '小红': 5.0, '小阳': 3.0, '小四': 4.0, '小李': 3.0}, '蚁人': {'隔壁老王': 4.0, '小李': 4.5}, '后会无期': {'小红': 3.0, '小四': 4.5, '小李': 3.5}, '盗梦空间': {'韩梅梅': 3.0, '小李': 5.0}, '匆匆那年': {'邻村小芳': 4.5, '李雷': 3.0, '小四': 4.0, '小李': 3.5, '韩梅梅': 4.5}, 'Phoenix': {'邻村小芳': 3.0, '隔壁老王': 5.0, '六爷': 4.0}, '火星救援': {'李雷': 5.0, '小红': 3.0, '小四': 3.5, '小明': 5.0}}\n"
     ]
    }
   ],
   "source": [
    "movies = {}\n",
    "for person,ratings in users.items():\n",
    "    for title,star in ratings.items():\n",
    "        movies.setdefault(title,{})[person] = star\n",
    "print(movies)"
   ]
  },
  {
   "cell_type": "code",
   "execution_count": 18,
   "metadata": {
    "collapsed": true
   },
   "outputs": [],
   "source": [
    "from collections import OrderedDict\n",
    "from operator import itemgetter\n",
    "\n",
    "def computeNearestNeighbor(itemname, items):\n",
    "    \"\"\"在给定username的情况下，计算其他用户和它的距离并排序\"\"\"\n",
    "    distances = {}\n",
    "    for item in items:\n",
    "        if item != itemname:\n",
    "            distances[item] = pearson_dis(items[item], items[itemname])      \n",
    "    # 根据相似度排序，相似度越高，排得越靠前\n",
    "    #distances = OrderedDict(sorted(distances.items(), key = lambda x:x[1], reverse=True))\n",
    "    return distances\n",
    "\n",
    "#推荐 nearest neighbor users\n",
    "def recommendOne(itemname, items):\n",
    "    \"\"\"对指定的电影推荐user\"\"\"\n",
    "    nearestNeighbors = computeNearestNeighbor(itemname, items)\n",
    "    nearestNeighbor = max(nearestNeighbors.items(), key=itemgetter(1))[0]\n",
    "    \n",
    "    recommendations = []\n",
    "    itemRatings = items[itemname]\n",
    "    neighborRatings = items[nearestNeighbor]\n",
    "    for user in neighborRatings:\n",
    "        if not user in itemRatings:\n",
    "            recommendations.append((neighborRatings[user], user))\n",
    "            \n",
    "    recommendations.sort(reverse = True)\n",
    "    for result in recommendations:\n",
    "        print(result[1], result[0])\n",
    "        \n",
    "#推荐 item-based Top K users\n",
    "def recommendTopK(itemname, items, k):\n",
    "    \"\"\"对指定的电影推荐user\"\"\"\n",
    "    nearestNeighbors = computeNearestNeighbor(itemname, items)\n",
    "    \n",
    "    weights = {}\n",
    "    weightedRatings = {}\n",
    "    itemRatings = items[itemname]\n",
    "    for neighbor, weight in nearestNeighbors.items():\n",
    "        if weight > 0:\n",
    "            neighborRatings = items[neighbor]\n",
    "            for title, rating in neighborRatings.items():\n",
    "                if title not in itemRatings:\n",
    "                    if title in weightedRatings:\n",
    "                        weights[title] += weight\n",
    "                        weightedRatings[title] += weight*rating\n",
    "                    else:\n",
    "                        weights[title] = weight\n",
    "                        weightedRatings[title] = weight*rating\n",
    "    \n",
    "    for w in weightedRatings.keys():\n",
    "        if w in weights:\n",
    "            weightedRatings[w] = round(weightedRatings[w]/weights[w],1)\n",
    "            \n",
    "    recommendations = sorted(weightedRatings.items(), key=itemgetter(1), reverse=True)[:k]\n",
    "    for result in recommendations:\n",
    "        print(result[0], result[1])"
   ]
  },
  {
   "cell_type": "code",
   "execution_count": 19,
   "metadata": {
    "scrolled": true
   },
   "outputs": [
    {
     "name": "stdout",
     "output_type": "stream",
     "text": [
      "小明 5.0\n",
      "隔壁老王 4.0\n",
      "李雷 4.0\n",
      "六爷 4.0\n",
      "邻村小芳 3.0\n",
      "------------------\n",
      "小明 5.0\n",
      "六爷 4.0\n",
      "隔壁老王 4.0\n",
      "李雷 4.0\n",
      "邻村小芳 3.0\n"
     ]
    }
   ],
   "source": [
    "recommendOne(\"速度与激情7\", movies)\n",
    "print('------------------')\n",
    "recommendTopK(\"速度与激情7\", movies, 5)"
   ]
  },
  {
   "cell_type": "markdown",
   "metadata": {},
   "source": [
    "### Latent Factor Model\n",
    "这里手写了一个矩阵分解来完成一个LFM模型，矩阵分解的过程和PPT中提到的公式是一致的"
   ]
  },
  {
   "cell_type": "code",
   "execution_count": 38,
   "metadata": {
    "collapsed": true
   },
   "outputs": [],
   "source": [
    "import numpy as np\n",
    "from pandas import DataFrame\n",
    "\n",
    "#读取user数据并用张量分解进行打分\n",
    "#现在有很多很方便对高维矩阵做分解的package，比如libmf, svdfeature等\n",
    "def LatentFactorModel(R, K, steps=5000, alpha=0.0002, beta=0.02):\n",
    "    N = R.shape[0]\n",
    "    if(K > N):\n",
    "        print('invalid K')\n",
    "        return\n",
    "    \n",
    "    M = R.shape[1]\n",
    "    P = np.random.rand(N,K)\n",
    "    Q = np.random.rand(K,M) \n",
    "    \n",
    "    for step in range(steps):\n",
    "        for i in range(N):\n",
    "            for j in range(M):\n",
    "                if R.iloc[i,j] > 0:\n",
    "                    eij = R.iloc[i,j] - np.dot(P[i,:],Q[:,j])\n",
    "                    for k in range(K):\n",
    "                        P[i][k] += alpha * (2 * eij * Q[k][j] - beta * P[i][k])\n",
    "                        Q[k][j] += alpha * (2 * eij * P[i][k] - beta * Q[k][j])\n",
    "        e = 0\n",
    "        for i in range(N):\n",
    "            for j in range(M):\n",
    "                if R.iloc[i,j] > 0:\n",
    "                    e += pow(R.iloc[i,j] - np.dot(P[i,:],Q[:,j]), 2)\n",
    "                    for k in range(K):\n",
    "                        e += (beta/2) * (pow(P[i][k],2) + pow(Q[k][j],2))\n",
    "        if e < 0.001:\n",
    "            break\n",
    "            \n",
    "    nR = DataFrame(data = np.dot(P,Q), columns = R.columns, index = R.index)\n",
    "    nR[nR - R < 0.5] = 0\n",
    "    return nR\n",
    "\n",
    "def RecommendTopK(nR,user,topK):\n",
    "    recommendations = dict(nR.loc[user])\n",
    "    recommendations = sorted(recommendations.items(),key=itemgetter(1),reverse=True)[:5]\n",
    "    for result in recommendations:\n",
    "        print(result[0], round(result[1], 1))"
   ]
  },
  {
   "cell_type": "code",
   "execution_count": 32,
   "metadata": {
    "scrolled": true
   },
   "outputs": [],
   "source": [
    "K = 4\n",
    "R = DataFrame.from_dict(movies).fillna(0)\n",
    "nR = LatentFactorModel(R, K)"
   ]
  },
  {
   "cell_type": "code",
   "execution_count": 44,
   "metadata": {},
   "outputs": [
    {
     "name": "stdout",
     "output_type": "stream",
     "text": [
      "The Strokes 4.7\n",
      "肖洛特烦恼 4.5\n",
      "中国合伙人 4.4\n",
      "Phoenix 4.3\n",
      "甄嬛传 4.2\n"
     ]
    }
   ],
   "source": [
    "RecommendTopK(nR,\"小李\",5)"
   ]
  },
  {
   "cell_type": "code",
   "execution_count": null,
   "metadata": {
    "collapsed": true
   },
   "outputs": [],
   "source": []
  }
 ],
 "metadata": {
  "kernelspec": {
   "display_name": "Python 3",
   "language": "python",
   "name": "python3"
  },
  "language_info": {
   "codemirror_mode": {
    "name": "ipython",
    "version": 3
   },
   "file_extension": ".py",
   "mimetype": "text/x-python",
   "name": "python",
   "nbconvert_exporter": "python",
   "pygments_lexer": "ipython3",
   "version": "3.5.2"
  }
 },
 "nbformat": 4,
 "nbformat_minor": 2
}
